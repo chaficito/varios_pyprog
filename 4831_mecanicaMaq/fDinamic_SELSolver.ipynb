{
 "cells": [
  {
   "cell_type": "markdown",
   "id": "891bdffb",
   "metadata": {},
   "source": [
    "# SEL Solver"
   ]
  },
  {
   "cell_type": "code",
   "execution_count": 3,
   "id": "45e809e6",
   "metadata": {},
   "outputs": [
    {
     "name": "stdout",
     "output_type": "stream",
     "text": [
      "Requirement already satisfied: sympy in /home/rondonjrs/.local/lib/python3.9/site-packages (1.10.1)\r\n",
      "Requirement already satisfied: mpmath>=0.19 in /home/rondonjrs/.local/lib/python3.9/site-packages (from sympy) (1.2.1)\r\n"
     ]
    }
   ],
   "source": [
    "#Instalacion y llamada de librerias necesarias\n",
    "#Operaciones Matematicas Avanzadas (sympy)\n",
    "#Operaciones Matematicas Basicas (math)\n",
    "\n",
    "!pip install sympy\n",
    "\n",
    "import sympy as s\n",
    "import math as m\n",
    "\n",
    "#Nomenclatura\n",
    "#\"R\" representa las Distancias\n",
    "#\"ag\" representa las Aceleraciones\n",
    "#\"m\" representa las masas\n",
    "#\"I\" represeta los Momentos de Inercia\n",
    "#\"alpha\" representa las Aceleraciones Angulares\n",
    "#\"T\" representa los Par Torsores\n",
    "#\"F\" representa las fuerzas\n",
    "\n",
    "#Definicion y Calculo de Constantes/Datos\n",
    "\n",
    "#Distancias en pulg.\n",
    "R_O2_CG2x = 1.414\n",
    "R_O2_CG2y = 1.414\n",
    "R_CG2_Ax = 1.414\n",
    "R_CG2_Ay = 1.414\n",
    "R_A_CG3x = 4.533\n",
    "R_A_CG3y = 2.111\n",
    "R_CG3_Bx = 6.346\n",
    "R_CG3_By = 2.955\n",
    "R_CG4_O4x = 2.534\n",
    "R_CG4_O4y = 3.095\n",
    "R_CG4_Bx = 1.241\n",
    "R_CG4_By = 4.799\n",
    "R_CG4_Px = 1.293\n",
    "R_CG4_Py = 7.895\n",
    "\n",
    "#Aceleraciones en pulg/s2\n",
    "ag2x = 801.00*m.cos(42.14*m.pi/180)\n",
    "ag2y = 801.00*m.sin(42.14*m.pi/180)\n",
    "ag3x = 1691.49*m.cos(28.24*m.pi/180)\n",
    "ag3y = 1691.49*m.sin(28.24*m.pi/180)\n",
    "ag4x = 979.02*m.cos(42.27*m.pi/180)\n",
    "ag4y = 979.02*m.sin(42.27*m.pi/180)\n",
    "\n",
    "#Masa de Cada Eslabon en blob\n",
    "m2 = 0.002\n",
    "m3 = 0.02\n",
    "m4 = 0.1\n",
    "\n",
    "#Momentos de Inercia en los Centroides de Cada Eslabon en blob*pulg2\n",
    "I2 = 0.1\n",
    "I3 = 0.2\n",
    "I4 = 0.5\n",
    "\n",
    "#Aceleraciones Angulares en rad/s2\n",
    "alpha2 = 20\n",
    "alpha3 = 75.29\n",
    "alpha4 = 244.43\n",
    "\n",
    "#Par Torsores en lb*pulg\n",
    "T3 = -15\n",
    "T4 = 25\n",
    "\n",
    "#Fuerzas en lbf\n",
    "F_P4x = 40*m.cos(m.pi/6) \n",
    "F_P4y = 40*m.sin(m.pi/6)\n",
    "\n",
    "#Escribiendo las filas de las Matriz\n",
    "#Matriz de Coeficientes\n",
    "v1 = [1,0,1,0,0,0,0,0,0]\n",
    "v2 = [0,1,0,1,0,0,0,0,0]\n",
    "v3 = [-R_O2_CG2y,R_O2_CG2x,-R_CG2_Ay,R_CG2_Ax,1,0,0,0,0]\n",
    "v4 = [0,0,-1,0,0,1,0,0,0]\n",
    "v5 = [0,0,0,-1,0,0,-1,0,0]\n",
    "v6 = [0,0,R_A_CG3y,-R_A_CG3x,0,-R_CG3_By,-R_CG3_Bx,0,0]\n",
    "v7 = [0,0,0,0,0,-1,0,1,0]\n",
    "v8 = [0,0,0,0,0,0,-1,0,1]\n",
    "v9 = [0,0,0,0,0,-R_CG4_By,-R_CG4_Bx,R_CG4_O4y,R_CG4_O4x]\n",
    "\n",
    "A = s.Matrix([v1,v2,v3,v4,v5,v6,v7,v8,v9])\n",
    "\n",
    "#Vector de Incognitas\n",
    "x = ['F12x','F12y','F32x','F32y','T2','F43x','F43y','F14x','F14y']\n",
    "\n",
    "#Vector de Terminos Independientes\n",
    "e1 = m2*ag2x\n",
    "e2 = m2*ag2y\n",
    "e3 = I2*alpha2\n",
    "e4 = m3*ag3x\n",
    "e5 = m3*ag3y\n",
    "e6 = I3*alpha3 - T3\n",
    "e7 = m4*ag4x - F_P4x\n",
    "e8 = m4*ag4y - F_P4y\n",
    "e9 = I4*alpha4 - T4 - R_CG4_Py*F_P4x - R_CG4_Px*F_P4y\n",
    "\n",
    "b = s.Matrix(9,1,[e1,e2,e3,e4,e5,e6,e7,e8,e9])"
   ]
  },
  {
   "cell_type": "markdown",
   "id": "c803f428",
   "metadata": {},
   "source": [
    "## Resolviendo ahora el Modelo Matricial"
   ]
  },
  {
   "cell_type": "code",
   "execution_count": 4,
   "id": "45255389",
   "metadata": {},
   "outputs": [
    {
     "name": "stdout",
     "output_type": "stream",
     "text": [
      "F12x = -151.482910864856\n",
      "F12y = -79.1233623399905\n",
      "F32x = 152.670806062681\n",
      "F32y = 80.1982153527251\n",
      "T2 = 2.15984164971760\n",
      "F43x = 182.473957779369\n",
      "F43y = -96.2053236422343\n",
      "F14x = 220.278794702689\n",
      "F14y = -50.3539760760741\n",
      "\n",
      "No olvides resvisar los Resultados, Saludos\n",
      "Hasta la Proxima...\n"
     ]
    }
   ],
   "source": [
    "#Resolviendo el Modelo Matricial\n",
    "sol = A.LUsolve(b)\n",
    "\n",
    "n = 0\n",
    "for incognita in x :\n",
    "\tprint(incognita,'=',sol[n])\n",
    "\tn += 1\n",
    "\n",
    "print('\\nNo olvides resvisar los Resultados, Saludos\\nHasta la Proxima...')"
   ]
  },
  {
   "cell_type": "code",
   "execution_count": null,
   "id": "6518b41a",
   "metadata": {},
   "outputs": [],
   "source": []
  }
 ],
 "metadata": {
  "kernelspec": {
   "display_name": "Python 3 (ipykernel)",
   "language": "python",
   "name": "python3"
  },
  "language_info": {
   "codemirror_mode": {
    "name": "ipython",
    "version": 3
   },
   "file_extension": ".py",
   "mimetype": "text/x-python",
   "name": "python",
   "nbconvert_exporter": "python",
   "pygments_lexer": "ipython3",
   "version": "3.9.2"
  }
 },
 "nbformat": 4,
 "nbformat_minor": 5
}
