{
 "cells": [
  {
   "cell_type": "markdown",
   "metadata": {},
   "source": [
    "# Graficando Momento Total"
   ]
  },
  {
   "cell_type": "code",
   "execution_count": 15,
   "metadata": {},
   "outputs": [
    {
     "name": "stdout",
     "output_type": "stream",
     "text": [
      "Requirement already satisfied: sympy in /srv/conda/envs/notebook/lib/python3.5/site-packages (1.6.2)\n",
      "Requirement already satisfied: matplotlib in /srv/conda/envs/notebook/lib/python3.5/site-packages (3.0.3)\n",
      "Requirement already satisfied: mpmath>=0.19 in /srv/conda/envs/notebook/lib/python3.5/site-packages (from sympy) (1.2.1)\n",
      "Requirement already satisfied: cycler>=0.10 in /srv/conda/envs/notebook/lib/python3.5/site-packages (from matplotlib) (0.10.0)\n",
      "Requirement already satisfied: pyparsing!=2.0.4,!=2.1.2,!=2.1.6,>=2.0.1 in /srv/conda/envs/notebook/lib/python3.5/site-packages (from matplotlib) (2.4.7)\n",
      "Requirement already satisfied: python-dateutil>=2.1 in /srv/conda/envs/notebook/lib/python3.5/site-packages (from matplotlib) (2.7.5)\n",
      "Requirement already satisfied: kiwisolver>=1.0.1 in /srv/conda/envs/notebook/lib/python3.5/site-packages (from matplotlib) (1.1.0)\n",
      "Requirement already satisfied: numpy>=1.10.0 in /srv/conda/envs/notebook/lib/python3.5/site-packages (from matplotlib) (1.18.5)\n",
      "Requirement already satisfied: six in /srv/conda/envs/notebook/lib/python3.5/site-packages (from cycler>=0.10->matplotlib) (1.11.0)\n",
      "Requirement already satisfied: setuptools in /srv/conda/envs/notebook/lib/python3.5/site-packages (from kiwisolver>=1.0.1->matplotlib) (40.4.3)\n"
     ]
    }
   ],
   "source": [
    "#Instalacion y llamada a librerias\n",
    "#Operaciones Matematicas (sympy)\n",
    "#Graficacion (matplotlib)\n",
    "\n",
    "!pip install sympy matplotlib\n",
    "\n",
    "import sympy as s\n",
    "import matplotlib.pyplot as plt\n",
    "\n",
    "#Definiendo a la x de tipo string (cadena de caracteres) como varible matematica\n",
    "\n",
    "x = s.symbols('x')\n",
    "\n",
    "#Definicion de listas para posterior graficacion con matplotlib\n",
    "\n",
    "x_graph = []\n",
    "y_graph_Mxy = []\n",
    "y_graph_Mxz = []\n",
    "y_graph_Mtotal = []\n",
    "x_axis = []"
   ]
  },
  {
   "cell_type": "code",
   "execution_count": 16,
   "metadata": {},
   "outputs": [],
   "source": [
    "#Definicion de Variables para Funcion de Singularidad\n",
    "#Modificar Mxy_str y Mxz_str para otras evaluaciones\n",
    "\n",
    "Mxy_str = '-728.59547921*x'\n",
    "Mxz_str = '-33.9045210267*x'\n",
    "\n",
    "n = 0\n",
    "\n",
    "bool_1 = True\n",
    "bool_2 = True\n",
    "bool_3 = True"
   ]
  },
  {
   "cell_type": "markdown",
   "metadata": {},
   "source": [
    "Las variables *booleanas* se usan como variables auxiliares de control para activar una sola vez la porcion de la funcion de singularidad y que la misma no se active con cada iteracion del ciclo `while`."
   ]
  },
  {
   "cell_type": "code",
   "execution_count": 17,
   "metadata": {},
   "outputs": [],
   "source": [
    "#Ciclo while para crear y evalauar la funcion de discontinuidad\n",
    "#Para otros casos, modificar el numero dentro del if que corresponde a la longitud donde \n",
    "#se activa esa porcion de la Funcion de Singularidad\n",
    "#y modificar tambien la cadena de caracteres\n",
    "\n",
    "while True :\n",
    "\tif int(n) == 9 and bool_1 :\n",
    "\t\tMxy_str = Mxy_str + '+1920*(x-9)'\n",
    "\t\tMxz_str = Mxz_str + '-700*(x-9)'\n",
    "\t\tbool_1 = False\n",
    "\tif int(n) == 24 and bool_2 :\n",
    "\t\tMxy_str = Mxy_str + '-2322.77537068*(x-24)'\n",
    "\t\tMxz_str = Mxz_str + '+1865.27537068*(x-24)'\n",
    "\t\tbool_2 = False\n",
    "\tif int(n) == 34 and bool_3 :\n",
    "\t\tMxy_str = Mxy_str + '+1131.37085*(x-34)'\n",
    "\t\tMxz_str = Mxz_str + '-1131.37085*(x-34)'\n",
    "\t\tbool_2 = False\n",
    "\n",
    "\tx_graph.append(n)\n",
    "\tx_axis.append(0)\n",
    "    \n",
    "    #Convirtiendo una cadena de caracteres en funcion matematica para evaluar\n",
    "    \n",
    "\tMxy = s.sympify(Mxy_str)\n",
    "\tMxy_eval = Mxy.subs(x,n)\n",
    "\n",
    "\tMxz = s.sympify(Mxz_str)\n",
    "\tMxz_eval = Mxz.subs(x,n)\n",
    "\t\n",
    "\ty_graph_Mxy.append(Mxy_eval)\n",
    "\ty_graph_Mxz.append(Mxz_eval)\n",
    "\n",
    "\tMtotal = s.sqrt(Mxy_eval**2 + Mxz_eval**2)\n",
    "\ty_graph_Mtotal.append(Mtotal)\n",
    "\n",
    "\tif int(n) == 34 :\n",
    "\t\tbreak\n",
    "\n",
    "\tn = n + 0.1"
   ]
  },
  {
   "cell_type": "markdown",
   "metadata": {},
   "source": [
    "Cada valor de momento total a cada valor n de evaluacion se va almacenando en una lista para luego emplear esa lista para graficar como se muestra en la siguiente porcion de codigo."
   ]
  },
  {
   "cell_type": "code",
   "execution_count": 18,
   "metadata": {},
   "outputs": [
    {
     "data": {
      "image/png": "[encoded data removed]",
      "text/plain": [
       "<Figure size 432x288 with 1 Axes>"
      ]
     },
     "metadata": {
      "needs_background": "light"
     },
     "output_type": "display_data"
    }
   ],
   "source": [
    "#Graficando\n",
    "\n",
    "plt.figure()\n",
    "\n",
    "plt.plot(x_graph, y_graph_Mxy, linewidth = 2, label = 'Momento Plano XY', color = 'C0')\n",
    "plt.plot(x_graph, y_graph_Mxz, linewidth = 2, label = 'Momento Plano XZ', color = 'C1')\n",
    "plt.plot(x_graph, x_axis, color = 'k')\n",
    "plt.plot(x_graph, y_graph_Mtotal, linewidth = 2, label = 'Momento Total', color = 'C3')\n",
    "\n",
    "plt.xlabel('x')\n",
    "plt.ylabel('M')\n",
    "plt.legend()\n",
    "plt.show()"
   ]
  },
  {
   "cell_type": "markdown",
   "metadata": {},
   "source": [
    "Fin."
   ]
  },
  {
   "cell_type": "code",
   "execution_count": null,
   "metadata": {},
   "outputs": [],
   "source": []
  }
 ],
 "metadata": {
  "kernelspec": {
   "display_name": "Python 3",
   "language": "python",
   "name": "python3"
  },
  "language_info": {
   "codemirror_mode": {
    "name": "ipython",
    "version": 3
   },
   "file_extension": ".py",
   "mimetype": "text/x-python",
   "name": "python",
   "nbconvert_exporter": "python",
   "pygments_lexer": "ipython3",
   "version": "3.5.6"
  }
 },
 "nbformat": 4,
 "nbformat_minor": 2
}
